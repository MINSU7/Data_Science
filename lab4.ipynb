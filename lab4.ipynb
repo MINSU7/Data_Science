{
 "cells": [
  {
   "cell_type": "code",
   "execution_count": null,
   "metadata": {},
   "outputs": [
    {
     "name": "stdout",
     "output_type": "stream",
     "text": [
      "4\n",
      "HelloHello\n",
      "[1, 2, 3, 1, 2, 3]\n",
      "(1, 2, 3, 1, 2, 3)\n",
      "Help on function double in module __main__:\n",
      "\n",
      "double(x)\n",
      "    double the input\n",
      "    Args :\n",
      "      x = any object\n",
      "    Returns :\n",
      "      double of x\n",
      "\n"
     ]
    }
   ],
   "source": [
    "# Function\n",
    "\n",
    "def double(x) :\n",
    "    \"\"\"\n",
    "    double the input\n",
    "    Args :\n",
    "      x = any object\n",
    "    Returns :\n",
    "      double of x\n",
    "    \"\"\"\n",
    "    x = x * 2\n",
    "    return x\n",
    "\n",
    "print(double(2))\n",
    "print(double('Hello'))\n",
    "print(double([1,2,3]))\n",
    "print(double((1,2,3)))\n",
    "help(double)\n",
    "\n",
    "# 받는 값 : 파라미터\n",
    "# 넘기는 값 : 아규먼트트"
   ]
  },
  {
   "cell_type": "code",
   "execution_count": 18,
   "metadata": {},
   "outputs": [
    {
     "name": "stdout",
     "output_type": "stream",
     "text": [
      "###\n",
      "###\n",
      "###\n"
     ]
    }
   ],
   "source": [
    "def print_square(x) :\n",
    "    for i in range(x):\n",
    "        print(\"#\" * x)\n",
    "\n",
    "print_square(3)"
   ]
  }
 ],
 "metadata": {
  "kernelspec": {
   "display_name": "Python 3",
   "language": "python",
   "name": "python3"
  },
  "language_info": {
   "codemirror_mode": {
    "name": "ipython",
    "version": 3
   },
   "file_extension": ".py",
   "mimetype": "text/x-python",
   "name": "python",
   "nbconvert_exporter": "python",
   "pygments_lexer": "ipython3",
   "version": "3.12.6"
  }
 },
 "nbformat": 4,
 "nbformat_minor": 2
}
