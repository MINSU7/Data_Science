{
 "cells": [
  {
   "cell_type": "code",
   "execution_count": null,
   "metadata": {},
   "outputs": [
    {
     "name": "stdout",
     "output_type": "stream",
     "text": [
      "4\n",
      "HelloHello\n",
      "[1, 2, 3, 1, 2, 3]\n",
      "(1, 2, 3, 1, 2, 3)\n",
      "Help on function double in module __main__:\n",
      "\n",
      "double(x)\n",
      "    double the input\n",
      "    Args :\n",
      "      x = any object\n",
      "    Returns :\n",
      "      double of x\n",
      "\n"
     ]
    }
   ],
   "source": [
    "# Function\n",
    "\n",
    "def double(x) :\n",
    "    \"\"\"\n",
    "    double the input\n",
    "    Args :\n",
    "      x = any object\n",
    "    Returns :\n",
    "      double of x\n",
    "    \"\"\"\n",
    "    x = x * 2\n",
    "    return x\n",
    "\n",
    "print(double(2))\n",
    "print(double('Hello'))\n",
    "print(double([1,2,3]))\n",
    "print(double((1,2,3)))\n",
    "help(double)\n",
    "\n",
    "# 받는 값 : 파라미터\n",
    "# 넘기는 값 : 아규먼트트"
   ]
  },
  {
   "cell_type": "code",
   "execution_count": 24,
   "metadata": {},
   "outputs": [
    {
     "name": "stdout",
     "output_type": "stream",
     "text": [
      "Help on function print_square in module __main__:\n",
      "\n",
      "print_square(x)\n",
      "    print a square using '#'s\n",
      "    Args :\n",
      "      size(int) : lengths of square's size\n",
      "    Returns :\n",
      "      None\n",
      "\n",
      "###\n",
      "###\n",
      "###\n"
     ]
    }
   ],
   "source": [
    "def print_square(x) :\n",
    "    \"\"\"\n",
    "    print a square using '#'s\n",
    "    Args :\n",
    "      size(int) : lengths of square's size\n",
    "    Returns :\n",
    "      None\n",
    "    \"\"\"\n",
    "    for _ in range(x):\n",
    "        print(\"#\" * x,)\n",
    "help(print_square)\n",
    "print_square(3)"
   ]
  },
  {
   "cell_type": "code",
   "execution_count": 33,
   "metadata": {},
   "outputs": [
    {
     "data": {
      "text/plain": [
       "120"
      ]
     },
     "execution_count": 33,
     "metadata": {},
     "output_type": "execute_result"
    }
   ],
   "source": [
    "def factorial(x) :\n",
    "    fact = 1\n",
    "    while x > 1 : \n",
    "        fact = fact * x\n",
    "        x = x - 1\n",
    "    return fact\n",
    "\n",
    "factorial(5)"
   ]
  },
  {
   "cell_type": "code",
   "execution_count": null,
   "metadata": {},
   "outputs": [
    {
     "data": {
      "text/plain": [
       "120"
      ]
     },
     "execution_count": 36,
     "metadata": {},
     "output_type": "execute_result"
    }
   ],
   "source": [
    "def factorial(x) :\n",
    "    if x == 1 : return x\n",
    "    else :\n",
    "        return x * factorial(x - 1)\n",
    "\n",
    "factorial(5)"
   ]
  },
  {
   "cell_type": "code",
   "execution_count": null,
   "metadata": {},
   "outputs": [
    {
     "data": {
      "text/plain": [
       "15"
      ]
     },
     "execution_count": 39,
     "metadata": {},
     "output_type": "execute_result"
    }
   ],
   "source": [
    "def sum_to_sum(x):\n",
    "    if x == 1 : return x\n",
    "    else : return x + sum_to_sum(x - 1)\n",
    "\n",
    "sum_to_sum(5)"
   ]
  },
  {
   "cell_type": "code",
   "execution_count": 56,
   "metadata": {},
   "outputs": [
    {
     "name": "stdout",
     "output_type": "stream",
     "text": [
      "fibo(0): 0\n",
      "fibo(1): 1\n",
      "fibo(2): 1\n",
      "fibo(3): 2\n",
      "fibo(4): 3\n",
      "fibo(5): 5\n",
      "fibo(6): 8\n",
      "fibo(7): 13\n",
      "fibo(8): 21\n",
      "fibo(9): 34\n",
      "fibo(10): 55\n",
      "fibo(11): 89\n",
      "fibo(12): 144\n",
      "fibo(13): 233\n",
      "fibo(14): 377\n",
      "fibo(15): 610\n",
      "fibo(16): 987\n",
      "fibo(17): 1597\n",
      "fibo(18): 2584\n",
      "fibo(19): 4181\n",
      "fibo(20): 6765\n",
      "fibo(21): 10946\n",
      "fibo(22): 17711\n",
      "fibo(23): 28657\n",
      "fibo(24): 46368\n",
      "fibo(25): 75025\n",
      "fibo(26): 121393\n",
      "fibo(27): 196418\n",
      "fibo(28): 317811\n",
      "fibo(29): 514229\n",
      "fibo(30): 832040\n",
      "fibo(31): 1346269\n",
      "fibo(32): 2178309\n",
      "fibo(33): 3524578\n",
      "fibo(34): 5702887\n"
     ]
    }
   ],
   "source": [
    "def fibo(x) :\n",
    "    if x == 0 : return 0\n",
    "    elif x == 1 : return 1\n",
    "    else : return fibo(x - 1) + fibo(x - 2)\n",
    "    \n",
    "for i in range(35) :\n",
    "    print(f\"fibo({i}): {(fibo(i))}\") "
   ]
  },
  {
   "cell_type": "code",
   "execution_count": null,
   "metadata": {},
   "outputs": [
    {
     "name": "stdout",
     "output_type": "stream",
     "text": [
      "I am minsu and from korea\n",
      "I am minsu and from japen\n"
     ]
    }
   ],
   "source": [
    "# named parameter 함수를 호출 할 때 순서를 바꿔서 호출해도 문제가 생기지 않음\n",
    "# position parameter 항상 그 포지션에서만 적어줘야함함\n",
    "# 후자가 전자보다 먼저 나와야만함와야만함\n",
    "\n",
    "def my_func(name, country = 'korea') :\n",
    "    print(f\"I am {name} and from {country}\")\n",
    "\n",
    "my_func(\"minsu\")\n",
    "my_func(\"minsu\", \"japen\")\n",
    "\n"
   ]
  },
  {
   "cell_type": "code",
   "execution_count": 66,
   "metadata": {},
   "outputs": [
    {
     "name": "stdout",
     "output_type": "stream",
     "text": [
      "perimeter 15.707963267948966\n",
      "area 19.634954084936208\n"
     ]
    }
   ],
   "source": [
    "from math import pi\n",
    "\n",
    "def perimeter(r) :\n",
    "    return 2 * pi * r\n",
    "\n",
    "def area(r) :\n",
    "    return pi * r ** 2\n",
    "\n",
    "my_func = [perimeter, area]\n",
    "\n",
    "for i in my_func :\n",
    "    print(i.__name__, i(2.5))"
   ]
  },
  {
   "cell_type": "code",
   "execution_count": 73,
   "metadata": {},
   "outputs": [
    {
     "name": "stdout",
     "output_type": "stream",
     "text": [
      "19.634954084936208\n"
     ]
    }
   ],
   "source": [
    "import lab4_circle\n",
    "\n",
    "a = lab4_circle.area(2.5)\n",
    "print(a)"
   ]
  },
  {
   "cell_type": "code",
   "execution_count": null,
   "metadata": {},
   "outputs": [
    {
     "name": "stdout",
     "output_type": "stream",
     "text": [
      "Help on module lab4_circle:\n",
      "\n",
      "NAME\n",
      "    lab4_circle\n",
      "\n",
      "FUNCTIONS\n",
      "    area(r)\n",
      "\n",
      "    perimeter(r)\n",
      "\n",
      "DATA\n",
      "    pi = 3.141592653589793\n",
      "\n",
      "FILE\n",
      "    c:\\users\\kms62\\desktop\\데이터사이언스기초\\lab4_circle.py\n",
      "\n",
      "\n"
     ]
    },
    {
     "ename": "",
     "evalue": "",
     "output_type": "error",
     "traceback": [
      "\u001b[1;31m현재 셀 또는 이전 셀에서 코드를 실행하는 동안 Kernel이 충돌했습니다. \n",
      "\u001b[1;31m셀의 코드를 검토하여 가능한 오류 원인을 식별하세요. \n",
      "\u001b[1;31m자세한 내용을 보려면 <a href='https://aka.ms/vscodeJupyterKernelCrash'>여기</a>를 클릭하세요. \n",
      "\u001b[1;31m자세한 내용은 Jupyter <a href='command:jupyter.viewOutput'>로그</a>를 참조하세요."
     ]
    }
   ],
   "source": [
    "help(lab4_circle)"
   ]
  }
 ],
 "metadata": {
  "kernelspec": {
   "display_name": "Python 3",
   "language": "python",
   "name": "python3"
  },
  "language_info": {
   "codemirror_mode": {
    "name": "ipython",
    "version": 3
   },
   "file_extension": ".py",
   "mimetype": "text/x-python",
   "name": "python",
   "nbconvert_exporter": "python",
   "pygments_lexer": "ipython3",
   "version": "3.12.6"
  }
 },
 "nbformat": 4,
 "nbformat_minor": 2
}
