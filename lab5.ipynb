{
 "cells": [
  {
   "cell_type": "code",
   "execution_count": null,
   "metadata": {},
   "outputs": [],
   "source": [
    "# Atomic data types\n",
    "# int, float, complex, bool, None\n",
    "\n",
    "# Compound data types\n",
    "# string, list, tuple, set, dictionary\n",
    "\n",
    "# string\n",
    "# charater set은 순서 없음\n",
    "\n",
    "# unicode는 149186개의 문자 지원, 이모티콘 포함함"
   ]
  },
  {
   "cell_type": "code",
   "execution_count": 8,
   "metadata": {},
   "outputs": [
    {
     "name": "stdout",
     "output_type": "stream",
     "text": [
      "i live in 'incheon'\n",
      "INCHEON\n",
      "7\n"
     ]
    }
   ],
   "source": [
    "type('incheon')\n",
    "a = 'incheon'\n",
    "b = \"incheon\"\n",
    "c = \"i live in 'incheon'\"\n",
    "print(c)\n",
    "print(a.upper())\n",
    "\n",
    "length = len(a)\n",
    "print(length)"
   ]
  },
  {
   "cell_type": "code",
   "execution_count": 9,
   "metadata": {},
   "outputs": [
    {
     "data": {
      "text/plain": [
       "['__add__',\n",
       " '__class__',\n",
       " '__contains__',\n",
       " '__delattr__',\n",
       " '__dir__',\n",
       " '__doc__',\n",
       " '__eq__',\n",
       " '__format__',\n",
       " '__ge__',\n",
       " '__getattribute__',\n",
       " '__getitem__',\n",
       " '__getnewargs__',\n",
       " '__getstate__',\n",
       " '__gt__',\n",
       " '__hash__',\n",
       " '__init__',\n",
       " '__init_subclass__',\n",
       " '__iter__',\n",
       " '__le__',\n",
       " '__len__',\n",
       " '__lt__',\n",
       " '__mod__',\n",
       " '__mul__',\n",
       " '__ne__',\n",
       " '__new__',\n",
       " '__reduce__',\n",
       " '__reduce_ex__',\n",
       " '__repr__',\n",
       " '__rmod__',\n",
       " '__rmul__',\n",
       " '__setattr__',\n",
       " '__sizeof__',\n",
       " '__str__',\n",
       " '__subclasshook__',\n",
       " 'capitalize',\n",
       " 'casefold',\n",
       " 'center',\n",
       " 'count',\n",
       " 'encode',\n",
       " 'endswith',\n",
       " 'expandtabs',\n",
       " 'find',\n",
       " 'format',\n",
       " 'format_map',\n",
       " 'index',\n",
       " 'isalnum',\n",
       " 'isalpha',\n",
       " 'isascii',\n",
       " 'isdecimal',\n",
       " 'isdigit',\n",
       " 'isidentifier',\n",
       " 'islower',\n",
       " 'isnumeric',\n",
       " 'isprintable',\n",
       " 'isspace',\n",
       " 'istitle',\n",
       " 'isupper',\n",
       " 'join',\n",
       " 'ljust',\n",
       " 'lower',\n",
       " 'lstrip',\n",
       " 'maketrans',\n",
       " 'partition',\n",
       " 'removeprefix',\n",
       " 'removesuffix',\n",
       " 'replace',\n",
       " 'rfind',\n",
       " 'rindex',\n",
       " 'rjust',\n",
       " 'rpartition',\n",
       " 'rsplit',\n",
       " 'rstrip',\n",
       " 'split',\n",
       " 'splitlines',\n",
       " 'startswith',\n",
       " 'strip',\n",
       " 'swapcase',\n",
       " 'title',\n",
       " 'translate',\n",
       " 'upper',\n",
       " 'zfill']"
      ]
     },
     "execution_count": 9,
     "metadata": {},
     "output_type": "execute_result"
    }
   ],
   "source": [
    "dir('incheon')"
   ]
  },
  {
   "cell_type": "code",
   "execution_count": 13,
   "metadata": {},
   "outputs": [
    {
     "data": {
      "text/plain": [
       "'o'"
      ]
     },
     "execution_count": 13,
     "metadata": {},
     "output_type": "execute_result"
    }
   ],
   "source": [
    "'incheon'[-2]\n"
   ]
  },
  {
   "cell_type": "code",
   "execution_count": 25,
   "metadata": {},
   "outputs": [
    {
     "data": {
      "text/plain": [
       "'🔀'"
      ]
     },
     "execution_count": 25,
     "metadata": {},
     "output_type": "execute_result"
    }
   ],
   "source": [
    "#character -> Unicode code point ord()\n",
    "#Unicode code point -> character chr()\n",
    "ord(\"인\")\n",
    "chr(51064)\n",
    "chr(0x1F500)"
   ]
  },
  {
   "cell_type": "code",
   "execution_count": 33,
   "metadata": {},
   "outputs": [
    {
     "name": "stdout",
     "output_type": "stream",
     "text": [
      "a b c d e f g h i j k l m n o p q r s t u v w x y z \n",
      "a b c d e f g h i j k l m n o p q r s t u v w x y z "
     ]
    }
   ],
   "source": [
    "for i in range(ord('a'), ord('z') + 1):\n",
    "    print(chr(i),end=\" \")\n",
    "\n",
    "print()\n",
    "\n",
    "for cnt in range(26) :\n",
    "    print(chr(ord('a') + cnt),end=\" \")"
   ]
  },
  {
   "cell_type": "code",
   "execution_count": 35,
   "metadata": {},
   "outputs": [
    {
     "data": {
      "text/plain": [
       "b'\\xea\\xb0\\x95\\xeb\\xaf\\xbc\\xec\\x88\\x98'"
      ]
     },
     "execution_count": 35,
     "metadata": {},
     "output_type": "execute_result"
    }
   ],
   "source": [
    "'hello'\n",
    "'강민수'.encode('utf-8')"
   ]
  },
  {
   "cell_type": "code",
   "execution_count": 46,
   "metadata": {},
   "outputs": [
    {
     "name": "stdout",
     "output_type": "stream",
     "text": [
      "eo\n"
     ]
    }
   ],
   "source": [
    "# string slicing\n",
    "city = 'incheon'\n",
    "\n",
    "# from m up to n - 1\n",
    "city[0 : 3] + city[3 : ]\n",
    "\n",
    "# stride\n",
    "city[ : : 2]\n",
    "\n",
    "print(city[-3 : -1])\n"
   ]
  },
  {
   "cell_type": "code",
   "execution_count": 43,
   "metadata": {},
   "outputs": [
    {
     "data": {
      "text/plain": [
       "True"
      ]
     },
     "execution_count": 43,
     "metadata": {},
     "output_type": "execute_result"
    }
   ],
   "source": [
    "'a' == 'a'\n",
    "\n",
    "'10' < '9'\n",
    "\n",
    "'p' in 'apple'"
   ]
  },
  {
   "cell_type": "code",
   "execution_count": null,
   "metadata": {},
   "outputs": [
    {
     "name": "stdout",
     "output_type": "stream",
     "text": [
      "Wjhfhfh"
     ]
    }
   ],
   "source": [
    "N = input()\n",
    "idx = 0\n",
    "for i in N : # pytionic\n",
    "    if ('a' in i or 'i' in i or 'e' in i or 'o' in i or 'u' in i) : continue\n",
    "    else : \n",
    "        if idx == 0 : print(i.upper(),end=\"\")\n",
    "        else : print(i,end=\"\")\n",
    "    idx += 1\n"
   ]
  },
  {
   "cell_type": "code",
   "execution_count": 63,
   "metadata": {},
   "outputs": [
    {
     "name": "stdout",
     "output_type": "stream",
     "text": [
      "Kangminsu\n"
     ]
    },
    {
     "data": {
      "text/plain": [
       "['incheon']"
      ]
     },
     "execution_count": 63,
     "metadata": {},
     "output_type": "execute_result"
    }
   ],
   "source": [
    "name = 'kangminsu'\n",
    "#name[0] = '0'\n",
    "name = 'K' + name[1 :]\n",
    "print(name)\n",
    "\n",
    "# 새로운 것을 만들어서 리턴한다.\n",
    "# method\n",
    "\n",
    "city = 'incheon'\n",
    "dir(city)\n",
    "city.split()"
   ]
  },
  {
   "cell_type": "code",
   "execution_count": null,
   "metadata": {},
   "outputs": [
    {
     "data": {
      "text/plain": [
       "'*** CHLORINE ***'"
      ]
     },
     "execution_count": 64,
     "metadata": {},
     "output_type": "execute_result"
    }
   ],
   "source": [
    "element = 'chlorine'\n",
    "\n",
    "'***' + element.upper().center(10) + '***' \n",
    "\n"
   ]
  },
  {
   "cell_type": "code",
   "execution_count": 75,
   "metadata": {},
   "outputs": [
    {
     "name": "stdout",
     "output_type": "stream",
     "text": [
      "Name : kangminsu, Age : 21\n",
      "pi is 3.142\n",
      "Name : Kangminsu, Age : 21\n",
      "2 time of pi is 6.28\n"
     ]
    }
   ],
   "source": [
    "# string formatting\n",
    "name = 'kangminsu'\n",
    "age = 21\n",
    "formatted_string = \"Name : {}, Age : {}\".format(name,age)\n",
    "print(formatted_string)\n",
    "\n",
    "print('pi is {:.3f}'.format(3.141515))\n",
    "\n",
    "# f-string\n",
    "pi = 3.14159\n",
    "formatted_string = f\"Name : {name.capitalize()}, Age : {age}\"\n",
    "print(formatted_string)\n",
    "print(f'2 time of pi is {pi * 2 :.2f}')"
   ]
  }
 ],
 "metadata": {
  "kernelspec": {
   "display_name": "Python 3",
   "language": "python",
   "name": "python3"
  },
  "language_info": {
   "codemirror_mode": {
    "name": "ipython",
    "version": 3
   },
   "file_extension": ".py",
   "mimetype": "text/x-python",
   "name": "python",
   "nbconvert_exporter": "python",
   "pygments_lexer": "ipython3",
   "version": "3.12.6"
  }
 },
 "nbformat": 4,
 "nbformat_minor": 2
}
