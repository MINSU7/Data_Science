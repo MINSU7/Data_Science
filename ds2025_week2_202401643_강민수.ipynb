{
 "cells": [
  {
   "cell_type": "code",
   "execution_count": 1,
   "metadata": {},
   "outputs": [
    {
     "name": "stdout",
     "output_type": "stream",
     "text": [
      "hello world\n"
     ]
    }
   ],
   "source": [
    "# 1\n",
    "tmp = \"hello world\"\n",
    "print(tmp)"
   ]
  },
  {
   "cell_type": "code",
   "execution_count": 2,
   "metadata": {},
   "outputs": [
    {
     "name": "stdout",
     "output_type": "stream",
     "text": [
      "hello world~! hello world~! hello world\n"
     ]
    }
   ],
   "source": [
    "# 2\n",
    "tmp = \"hello world\"\n",
    "print(tmp,tmp,tmp,sep=\"~! \")"
   ]
  },
  {
   "cell_type": "code",
   "execution_count": 3,
   "metadata": {},
   "outputs": [
    {
     "name": "stdout",
     "output_type": "stream",
     "text": [
      "!!!!!!!!!!!!!!!!!!!!!!!!!!!!!!!!!!!!!!!!!!!!!!!!!!"
     ]
    }
   ],
   "source": [
    "# 3 \n",
    "tmp = \"!\"\n",
    "for _ in range(50) :\n",
    "    print(tmp,end=\"\")"
   ]
  },
  {
   "cell_type": "code",
   "execution_count": 2,
   "metadata": {},
   "outputs": [
    {
     "name": "stdout",
     "output_type": "stream",
     "text": [
      "<class 'str'>\n"
     ]
    }
   ],
   "source": [
    "# 4\n",
    "tmp = \"17.24\"\n",
    "print(type(tmp))"
   ]
  },
  {
   "cell_type": "code",
   "execution_count": 3,
   "metadata": {},
   "outputs": [
    {
     "name": "stdout",
     "output_type": "stream",
     "text": [
      "<class 'float'>\n"
     ]
    }
   ],
   "source": [
    "# 5 \n",
    "tmp = \"17.24\"\n",
    "tmp = float(tmp)\n",
    "print(type(tmp))"
   ]
  },
  {
   "cell_type": "code",
   "execution_count": 6,
   "metadata": {},
   "outputs": [
    {
     "name": "stdout",
     "output_type": "stream",
     "text": [
      "1.0\n"
     ]
    }
   ],
   "source": [
    "# 7\n",
    "\n",
    "from math import *\n",
    "print(sin(pi/2))"
   ]
  },
  {
   "cell_type": "code",
   "execution_count": 4,
   "metadata": {},
   "outputs": [
    {
     "name": "stdout",
     "output_type": "stream",
     "text": [
      "['__doc__', '__loader__', '__name__', '__package__', '__spec__', 'acos', 'acosh', 'asin', 'asinh', 'atan', 'atan2', 'atanh', 'cbrt', 'ceil', 'comb', 'copysign', 'cos', 'cosh', 'degrees', 'dist', 'e', 'erf', 'erfc', 'exp', 'exp2', 'expm1', 'fabs', 'factorial', 'floor', 'fmod', 'frexp', 'fsum', 'gamma', 'gcd', 'hypot', 'inf', 'isclose', 'isfinite', 'isinf', 'isnan', 'isqrt', 'lcm', 'ldexp', 'lgamma', 'log', 'log10', 'log1p', 'log2', 'modf', 'nan', 'nextafter', 'perm', 'pi', 'pow', 'prod', 'radians', 'remainder', 'sin', 'sinh', 'sqrt', 'sumprod', 'tan', 'tanh', 'tau', 'trunc', 'ulp']\n"
     ]
    }
   ],
   "source": [
    "# 8\n",
    "import math\n",
    "\n",
    "print(dir(math))\n"
   ]
  },
  {
   "cell_type": "code",
   "execution_count": 5,
   "metadata": {},
   "outputs": [
    {
     "name": "stdout",
     "output_type": "stream",
     "text": [
      "10 * 2.0 = 20 !\n"
     ]
    }
   ],
   "source": [
    "# 9\n",
    "N = int(input())\n",
    "\n",
    "print(\"10 *\",float(N),\"=\",N * 10,\"!\")"
   ]
  },
  {
   "cell_type": "code",
   "execution_count": 9,
   "metadata": {},
   "outputs": [
    {
     "name": "stdout",
     "output_type": "stream",
     "text": [
      "even\n"
     ]
    }
   ],
   "source": [
    "# 10\n",
    "\n",
    "N = int(input())\n",
    "if(N == 0) : print(0)\n",
    "elif(N % 2 == 0) : print(\"even\")\n",
    "elif(N % 2 != 0) : print(\"odd\")\n"
   ]
  },
  {
   "cell_type": "code",
   "execution_count": 10,
   "metadata": {},
   "outputs": [
    {
     "name": "stdout",
     "output_type": "stream",
     "text": [
      "ok\n"
     ]
    }
   ],
   "source": [
    "# 11\n",
    "N = int(input())\n",
    "if(N % 2 == 0 and N % 3 == 0 and N % 5 == 0) : print(\"ok\")"
   ]
  },
  {
   "cell_type": "code",
   "execution_count": 11,
   "metadata": {},
   "outputs": [
    {
     "name": "stdout",
     "output_type": "stream",
     "text": [
      "2x 3x 5x "
     ]
    }
   ],
   "source": [
    "# 12 \n",
    "N = int(input())\n",
    "if(N % 2 == 0) : print(\"2x\",end=\" \")\n",
    "if(N % 3 == 0) : print(\"3x\",end=\" \")\n",
    "if(N % 5 == 0) : print(\"5x\",end=\" \")\n"
   ]
  },
  {
   "cell_type": "code",
   "execution_count": 26,
   "metadata": {},
   "outputs": [
    {
     "name": "stdout",
     "output_type": "stream",
     "text": [
      "weekend\n"
     ]
    }
   ],
   "source": [
    "# 13 \n",
    "N = str(input())\n",
    "\n",
    "if(N == \"monday\" or N == \"tuesday\" or N == \"wednesday\" or N == \"thursday\" or N == \"friday\") : print(\"weekday\")\n",
    "elif(N == \"saturday\" or N == \"sunday\") : print(\"weekend\")\n"
   ]
  },
  {
   "cell_type": "code",
   "execution_count": 2,
   "metadata": {},
   "outputs": [
    {
     "name": "stdout",
     "output_type": "stream",
     "text": [
      "333\n"
     ]
    }
   ],
   "source": [
    "# 14 \n",
    "N = int(input())\n",
    "\n",
    "if(N >= 0 and N <= 750) : print(\"TOP\")\n",
    "elif(N > 750 and N <= 810) : print(\"111\")\n",
    "elif(N > 810 and N <= 870) : print(\"222\")\n",
    "elif(N > 870 and N <= 950) : print(\"333\")\n",
    "elif(N > 950 ) : print(\"XXX\")"
   ]
  },
  {
   "cell_type": "code",
   "execution_count": null,
   "metadata": {},
   "outputs": [],
   "source": [
    "# 15 \n",
    "\n",
    "# 이유로는 \"False\"는 문자열이기에 항상 True로 판정받으며 False은 bool형 자료형 이기에 0 이다\n",
    "# 둘을 or할 경우에는 True(0이 아닌 숫자)가 무조건 참참으로 나오기에 첫 번째 if문인 True가 나온다."
   ]
  },
  {
   "cell_type": "code",
   "execution_count": 15,
   "metadata": {},
   "outputs": [
    {
     "name": "stdout",
     "output_type": "stream",
     "text": [
      "3\n"
     ]
    }
   ],
   "source": [
    "# 16\n",
    "tmp = \"hello world\"\n",
    "cnt = 0\n",
    "for i in tmp :\n",
    "    if(i == 'l') : cnt += 1\n",
    "print(cnt)"
   ]
  },
  {
   "cell_type": "code",
   "execution_count": 16,
   "metadata": {},
   "outputs": [
    {
     "name": "stdout",
     "output_type": "stream",
     "text": [
      "3\n"
     ]
    }
   ],
   "source": [
    "# 17\n",
    "tmp = \"heLLo world\"\n",
    "cnt = 0\n",
    "for i in tmp :\n",
    "    if(i == 'l' or i == 'L') : cnt += 1\n",
    "print(cnt)"
   ]
  },
  {
   "cell_type": "code",
   "execution_count": 17,
   "metadata": {},
   "outputs": [
    {
     "name": "stdout",
     "output_type": "stream",
     "text": [
      "1 2 3 4 5 6 7 8 9 10 11 12 13 14 15 16 17 18 19 20 "
     ]
    }
   ],
   "source": [
    "# 18\n",
    "\n",
    "N = 1\n",
    "while N <= 20 :\n",
    "    print(N,end=\" \")\n",
    "    N += 1"
   ]
  },
  {
   "cell_type": "code",
   "execution_count": 6,
   "metadata": {},
   "outputs": [
    {
     "name": "stdout",
     "output_type": "stream",
     "text": [
      "e\n"
     ]
    }
   ],
   "source": [
    "# 19\n",
    "tmp = \"hello world\"\n",
    "\n",
    "K = iter(tmp)\n",
    "a = next(K)\n",
    "print(next(K))\n"
   ]
  },
  {
   "cell_type": "code",
   "execution_count": 1,
   "metadata": {},
   "outputs": [
    {
     "name": "stdout",
     "output_type": "stream",
     "text": [
      "1 3 5 7 9 11 13 15 17 19 "
     ]
    }
   ],
   "source": [
    "# 20\n",
    "for i in range(1,21) :\n",
    "    if(i % 2 == 1) : print(i,end=\" \")"
   ]
  },
  {
   "cell_type": "code",
   "execution_count": 20,
   "metadata": {},
   "outputs": [
    {
     "name": "stdout",
     "output_type": "stream",
     "text": [
      "10 9 8 7 6 5 4 3 2 1 0 -1 -2 -3 -4 -5 -6 -7 -8 -9 -10 "
     ]
    }
   ],
   "source": [
    "# 21\n",
    "for i in range(10 ,-11, -1) :\n",
    "    print(i,end=\" \")"
   ]
  },
  {
   "cell_type": "code",
   "execution_count": 21,
   "metadata": {},
   "outputs": [
    {
     "name": "stdout",
     "output_type": "stream",
     "text": [
      "1 3 5 7 9 11 13 15 17 19 "
     ]
    }
   ],
   "source": [
    "# 22\n",
    "tmp = range(-5, 9999999999,2)\n",
    "\n",
    "for i in tmp :\n",
    "    if(i >= 20) : break\n",
    "    if(i % 2 == 1 and i > 0) : print(i,end=\" \")"
   ]
  },
  {
   "cell_type": "code",
   "execution_count": 22,
   "metadata": {},
   "outputs": [
    {
     "name": "stdout",
     "output_type": "stream",
     "text": [
      "*\n",
      "**\n",
      "***\n",
      "****\n",
      "*****\n"
     ]
    }
   ],
   "source": [
    "# 23\n",
    "for i in range(1,6) :\n",
    "    print('*' * i)"
   ]
  },
  {
   "cell_type": "code",
   "execution_count": 23,
   "metadata": {},
   "outputs": [
    {
     "name": "stdout",
     "output_type": "stream",
     "text": [
      "*\n",
      "*!*!\n",
      "***\n",
      "*!*!*!*!\n",
      "*****\n"
     ]
    }
   ],
   "source": [
    "# 24 \n",
    "for i in range(1,6) :\n",
    "    if(i % 2 == 1) :\n",
    "        print('*' * i)\n",
    "    else :\n",
    "        print('*!' * i)\n"
   ]
  },
  {
   "cell_type": "code",
   "execution_count": 24,
   "metadata": {},
   "outputs": [
    {
     "name": "stdout",
     "output_type": "stream",
     "text": [
      "*!*!\n",
      "*!*!*!*!\n"
     ]
    }
   ],
   "source": [
    "# 25 \n",
    "for i in range(1,6) :\n",
    "    if(i % 2 == 1) :\n",
    "        continue\n",
    "        print('*' * i)\n",
    "    else :\n",
    "        print('*!' * i)"
   ]
  }
 ],
 "metadata": {
  "kernelspec": {
   "display_name": "Python 3",
   "language": "python",
   "name": "python3"
  },
  "language_info": {
   "codemirror_mode": {
    "name": "ipython",
    "version": 3
   },
   "file_extension": ".py",
   "mimetype": "text/x-python",
   "name": "python",
   "nbconvert_exporter": "python",
   "pygments_lexer": "ipython3",
   "version": "3.12.6"
  }
 },
 "nbformat": 4,
 "nbformat_minor": 2
}
