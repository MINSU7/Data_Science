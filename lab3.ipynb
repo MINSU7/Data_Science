{
 "cells": [
  {
   "cell_type": "markdown",
   "metadata": {},
   "source": [
    "## Assignment : Overlap Detechion"
   ]
  },
  {
   "cell_type": "code",
   "execution_count": null,
   "metadata": {},
   "outputs": [
    {
     "name": "stdout",
     "output_type": "stream",
     "text": [
      "False\n",
      "True\n",
      "overpal : False\n"
     ]
    }
   ],
   "source": [
    "ax1, ay1, ax2, ay2 = 1,2,4,5\n",
    "bx1, by1, bx2, by2 = 2,1,5,4\n",
    "\n",
    "# check overlap in x axis\n",
    "p1 = min(ax2,bx2)\n",
    "p2 = max(ax1,bx1)\n",
    "overlap_x = p1 > p2\n",
    "print(overlap_x)\n",
    "\n",
    "# check overlap in y axis\n",
    "p3 = min(ay2,by2)\n",
    "p4 = max(ay1,by1)\n",
    "overlap_y = p3 > p4\n",
    "print(overlap_y)\n",
    "\n",
    "# check if overlap in both x and y axis\n",
    "overlap = overlap_x and overlap_y\n",
    "print(\"overpal :\",overlap)\n",
    "\n"
   ]
  },
  {
   "cell_type": "code",
   "execution_count": 1,
   "metadata": {},
   "outputs": [
    {
     "name": "stdout",
     "output_type": "stream",
     "text": [
      "1\t1\t1\n",
      "2\t4\t8\n",
      "3\t9\t27\n",
      "4\t16\t64\n",
      "5\t25\t125\n",
      "6\t36\t216\n",
      "7\t49\t343\n",
      "8\t64\t512\n",
      "9\t81\t729\n",
      "10\t100\t1000\n"
     ]
    }
   ],
   "source": [
    "# print powers\n",
    "\n",
    "n = 1\n",
    "while n <= 10:\n",
    "    print(n,n**2,n**3,sep='\\t')\n",
    "    n+=1"
   ]
  },
  {
   "cell_type": "code",
   "execution_count": null,
   "metadata": {},
   "outputs": [
    {
     "name": "stdout",
     "output_type": "stream",
     "text": [
      "1\t2\t3\t4\t5\t6\t7\t8\t9\t10\t\n",
      "2\t4\t6\t8\t10\t12\t14\t16\t18\t20\t\n",
      "3\t6\t9\t12\t15\t18\t21\t24\t27\t30\t\n",
      "4\t8\t12\t16\t20\t24\t28\t32\t36\t40\t\n",
      "5\t10\t15\t20\t25\t30\t35\t40\t45\t50\t\n",
      "6\t12\t18\t24\t30\t36\t42\t48\t54\t60\t\n",
      "7\t14\t21\t28\t35\t42\t49\t56\t63\t70\t\n",
      "8\t16\t24\t32\t40\t48\t56\t64\t72\t80\t\n",
      "9\t18\t27\t36\t45\t54\t63\t72\t81\t90\t\n",
      "10\t20\t30\t40\t50\t60\t70\t80\t90\t100\t\n"
     ]
    }
   ],
   "source": [
    "# mutiplication table\n",
    "i = 1\n",
    "j = 1\n",
    "while i <= 10 :\n",
    "    while j <= 10:\n",
    "        print(i*j,end='\\t')\n",
    "        j+=1\n",
    "    i+=1\n",
    "    j = 1\n",
    "    print()"
   ]
  },
  {
   "cell_type": "code",
   "execution_count": 29,
   "metadata": {},
   "outputs": [
    {
     "name": "stdout",
     "output_type": "stream",
     "text": [
      "2\n"
     ]
    }
   ],
   "source": [
    "# Counting digits\n",
    "\n",
    "n = int(input())\n",
    "cnt = 0\n",
    "while n > 0:\n",
    "    if(n % 2 == 1) : cnt += 1\n",
    "    n //= 10\n",
    "print(cnt)\n",
    "\n"
   ]
  },
  {
   "cell_type": "code",
   "execution_count": 43,
   "metadata": {},
   "outputs": [
    {
     "name": "stdout",
     "output_type": "stream",
     "text": [
      "s\n",
      "p\n",
      "a\n",
      "m\n",
      "s\n",
      "p\n",
      "a\n",
      "m\n",
      "s\n",
      "p\n",
      "a\n",
      "m\n",
      "s\n",
      "p\n",
      "a\n",
      "m\n",
      "s\n",
      "p\n",
      "a\n",
      "m\n",
      "s\n",
      "p\n",
      "a\n",
      "m\n",
      "s\n",
      "p\n",
      "a\n",
      "m\n",
      "s\n",
      "p\n",
      "a\n",
      "m\n",
      "s\n",
      "p\n",
      "a\n",
      "m\n",
      "s\n",
      "p\n",
      "a\n",
      "m\n",
      "s\n",
      "p\n",
      "a\n",
      "m\n",
      "s\n",
      "p\n",
      "a\n",
      "m\n",
      "s\n",
      "p\n",
      "a\n",
      "m\n",
      "s\n",
      "p\n",
      "a\n",
      "m\n",
      "s\n",
      "p\n",
      "a\n",
      "m\n",
      "s\n",
      "p\n",
      "a\n",
      "m\n",
      "s\n",
      "p\n",
      "a\n",
      "m\n",
      "s\n",
      "p\n",
      "a\n",
      "m\n",
      "s\n",
      "p\n",
      "a\n",
      "m\n",
      "s\n",
      "p\n",
      "a\n",
      "m\n",
      "s\n",
      "p\n",
      "a\n",
      "m\n",
      "s\n",
      "p\n",
      "a\n",
      "m\n",
      "s\n",
      "p\n",
      "a\n",
      "m\n",
      "s\n",
      "p\n",
      "a\n",
      "m\n",
      "s\n",
      "p\n",
      "a\n",
      "m\n"
     ]
    }
   ],
   "source": [
    "# Compound data types\n",
    "\n",
    "#Iterators\n",
    "word = 'spam'\n",
    "iterators = iter(word)\n",
    "for i in range(100):\n",
    "    print(word[i % 4])"
   ]
  },
  {
   "cell_type": "code",
   "execution_count": 57,
   "metadata": {},
   "outputs": [
    {
     "name": "stdout",
     "output_type": "stream",
     "text": [
      "1\t2\t3\t4\t5\t6\t7\t8\t9\t10\t\n",
      "2\t4\t6\t8\t10\t12\t14\t16\t18\t20\t\n",
      "3\t6\t9\t12\t15\t18\t21\t24\t27\t30\t\n",
      "4\t8\t12\t16\t20\t24\t28\t32\t36\t40\t\n",
      "5\t10\t15\t20\t25\t30\t35\t40\t45\t50\t\n",
      "6\t12\t18\t24\t30\t36\t42\t48\t54\t60\t\n",
      "7\t14\t21\t28\t35\t42\t49\t56\t63\t70\t\n",
      "8\t16\t24\t32\t40\t48\t56\t64\t72\t80\t\n",
      "9\t18\t27\t36\t45\t54\t63\t72\t81\t90\t\n",
      "10\t20\t30\t40\t50\t60\t70\t80\t90\t100\t\n"
     ]
    }
   ],
   "source": [
    "# range()\n",
    "list(range(10))\n",
    "list(range(3,10,2))\n",
    "\n",
    "i = j = 1\n",
    "for i in range(1,11) :\n",
    "    for j in range(1, 11) :\n",
    "        print(i * j,end='\\t')\n",
    "    print()"
   ]
  },
  {
   "cell_type": "code",
   "execution_count": 64,
   "metadata": {},
   "outputs": [
    {
     "name": "stdout",
     "output_type": "stream",
     "text": [
      "2\n"
     ]
    }
   ],
   "source": [
    "# Counding odd digits\n",
    "\n",
    "n = input()\n",
    "cnt = 0\n",
    "for i in n :\n",
    "    if(int(i) % 2 == 1) : cnt+=1\n",
    "print(cnt)\n",
    "\n"
   ]
  }
 ],
 "metadata": {
  "kernelspec": {
   "display_name": "Python 3",
   "language": "python",
   "name": "python3"
  },
  "language_info": {
   "codemirror_mode": {
    "name": "ipython",
    "version": 3
   },
   "file_extension": ".py",
   "mimetype": "text/x-python",
   "name": "python",
   "nbconvert_exporter": "python",
   "pygments_lexer": "ipython3",
   "version": "3.12.6"
  }
 },
 "nbformat": 4,
 "nbformat_minor": 2
}
